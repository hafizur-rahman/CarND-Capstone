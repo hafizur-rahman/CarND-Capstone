{
 "cells": [
  {
   "cell_type": "code",
   "execution_count": 5,
   "metadata": {},
   "outputs": [
    {
     "data": {
      "text/plain": [
       "<matplotlib.image.AxesImage at 0x7f63184f8da0>"
      ]
     },
     "execution_count": 5,
     "metadata": {},
     "output_type": "execute_result"
    },
    {
     "data": {
      "image/png": "[encoded data removed]",
      "text/plain": [
       "<Figure size 432x288 with 1 Axes>"
      ]
     },
     "metadata": {
      "needs_background": "light"
     },
     "output_type": "display_data"
    }
   ],
   "source": [
    "import glob\n",
    "import re\n",
    "import cv2\n",
    "import numpy as np\n",
    "import matplotlib.pyplot as plt\n",
    "from sklearn.model_selection import train_test_split\n",
    "from keras.utils.np_utils import to_categorical\n",
    "\n",
    "%matplotlib inline\n",
    "\n",
    "light_regex = 'sim_(?P<color>[a-z]+)_[0-9]+.jpg'\n",
    "X_train = []\n",
    "y_train = []\n",
    "for light in glob.glob('train/*.jpg'):\n",
    "    im = cv2.imread(light)\n",
    "    im = cv2.cvtColor(im, cv2.COLOR_BGR2RGB)\n",
    "    im = cv2.resize(im, (64,32))\n",
    "    match = re.search(light_regex, light)\n",
    "    \n",
    "    X_train.append(im)\n",
    "    if match.group('color') == 'green':\n",
    "        y_train.append(0)\n",
    "    elif match.group('color') == 'yellow':\n",
    "        y_train.append(1)\n",
    "    elif match.group('color') == 'red':\n",
    "        y_train.append(2)\n",
    "    \n",
    "y_train = to_categorical(y_train)\n",
    "\n",
    "X_train = np.array(X_train)\n",
    "plt.imshow(X_train[0])"
   ]
  },
  {
   "cell_type": "code",
   "execution_count": 6,
   "metadata": {},
   "outputs": [],
   "source": [
    "from keras.models import Sequential\n",
    "from keras.layers import Conv2D, Flatten, Dense, MaxPooling2D, Dropout\n",
    "from keras import losses, optimizers, regularizers\n",
    "import h5py\n",
    "\n",
    "# Set up model architecture\n",
    "num_classes = 3\n",
    "model = Sequential([\n",
    "    Conv2D(32, (3, 3), input_shape=(32, 64, 3), padding='same', activation='relu', kernel_initializer='random_uniform', kernel_regularizer=regularizers.l2(0.01)),\n",
    "    MaxPooling2D(2,2),\n",
    "    Dropout(0.2),\n",
    "    Flatten(),\n",
    "    Dense(8, activation='relu', kernel_initializer='random_uniform', kernel_regularizer=regularizers.l2(0.01)),\n",
    "    Dense(num_classes, activation='softmax')\n",
    "])\n",
    "\n",
    "loss = losses.categorical_crossentropy\n",
    "optimizer = optimizers.Adam()"
   ]
  },
  {
   "cell_type": "code",
   "execution_count": 8,
   "metadata": {},
   "outputs": [
    {
     "name": "stdout",
     "output_type": "stream",
     "text": [
      "Train on 315 samples, validate on 36 samples\n",
      "Epoch 1/25\n",
      "315/315 [==============================] - 1s 4ms/step - loss: 5.6718 - acc: 0.6667 - val_loss: 4.6699 - val_acc: 0.7222\n",
      "Epoch 2/25\n",
      "315/315 [==============================] - 0s 1ms/step - loss: 5.5103 - acc: 0.6667 - val_loss: 4.5482 - val_acc: 0.7222\n",
      "Epoch 3/25\n",
      "315/315 [==============================] - 0s 1ms/step - loss: 5.4206 - acc: 0.6667 - val_loss: 4.5008 - val_acc: 0.7222\n",
      "Epoch 4/25\n",
      "315/315 [==============================] - 0s 1ms/step - loss: 5.3901 - acc: 0.6667 - val_loss: 4.4891 - val_acc: 0.7222\n",
      "Epoch 5/25\n",
      "315/315 [==============================] - 0s 1ms/step - loss: 3.0001 - acc: 0.5714 - val_loss: 1.1083 - val_acc: 0.7222\n",
      "Epoch 6/25\n",
      "315/315 [==============================] - 0s 1ms/step - loss: 3.3667 - acc: 0.5175 - val_loss: 1.1206 - val_acc: 0.7222\n",
      "Epoch 7/25\n",
      "315/315 [==============================] - 0s 991us/step - loss: 1.1282 - acc: 0.5810 - val_loss: 1.1294 - val_acc: 0.7222\n",
      "Epoch 8/25\n",
      "315/315 [==============================] - 0s 950us/step - loss: 1.1325 - acc: 0.6762 - val_loss: 1.1282 - val_acc: 0.6944\n",
      "Epoch 9/25\n",
      "315/315 [==============================] - 0s 980us/step - loss: 1.1154 - acc: 0.6952 - val_loss: 1.0532 - val_acc: 0.7222\n",
      "Epoch 10/25\n",
      "315/315 [==============================] - 0s 995us/step - loss: 0.9676 - acc: 0.7651 - val_loss: 0.7113 - val_acc: 0.8056\n",
      "Epoch 11/25\n",
      "315/315 [==============================] - 0s 966us/step - loss: 0.5376 - acc: 0.8254 - val_loss: 0.5852 - val_acc: 0.7778\n",
      "Epoch 12/25\n",
      "315/315 [==============================] - 0s 977us/step - loss: 0.2683 - acc: 0.9397 - val_loss: 0.3745 - val_acc: 0.9167\n",
      "Epoch 13/25\n",
      "315/315 [==============================] - 0s 960us/step - loss: 0.2281 - acc: 0.9587 - val_loss: 0.2720 - val_acc: 0.9167\n",
      "Epoch 14/25\n",
      "315/315 [==============================] - 0s 981us/step - loss: 0.1690 - acc: 0.9651 - val_loss: 0.3036 - val_acc: 0.8889\n",
      "Epoch 15/25\n",
      "315/315 [==============================] - 0s 971us/step - loss: 0.1552 - acc: 0.9714 - val_loss: 0.1923 - val_acc: 0.9444\n",
      "Epoch 16/25\n",
      "315/315 [==============================] - 0s 961us/step - loss: 0.1089 - acc: 0.9937 - val_loss: 0.1982 - val_acc: 0.9444\n",
      "Epoch 17/25\n",
      "315/315 [==============================] - 0s 963us/step - loss: 0.1343 - acc: 0.9810 - val_loss: 0.2276 - val_acc: 0.9444\n",
      "Epoch 18/25\n",
      "315/315 [==============================] - 0s 963us/step - loss: 0.0925 - acc: 0.9873 - val_loss: 0.2030 - val_acc: 0.9444\n",
      "Epoch 19/25\n",
      "315/315 [==============================] - 0s 956us/step - loss: 0.0877 - acc: 0.9937 - val_loss: 0.1960 - val_acc: 0.9444\n",
      "Epoch 20/25\n",
      "315/315 [==============================] - 0s 950us/step - loss: 0.0760 - acc: 0.9968 - val_loss: 0.2195 - val_acc: 0.9722\n",
      "Epoch 21/25\n",
      "315/315 [==============================] - 0s 973us/step - loss: 0.0800 - acc: 0.9937 - val_loss: 0.2401 - val_acc: 0.9444\n",
      "Epoch 22/25\n",
      "315/315 [==============================] - 0s 977us/step - loss: 0.0763 - acc: 0.9968 - val_loss: 0.2363 - val_acc: 0.9444\n",
      "Epoch 23/25\n",
      "315/315 [==============================] - 0s 948us/step - loss: 0.0687 - acc: 0.9968 - val_loss: 0.2232 - val_acc: 0.9444\n",
      "Epoch 24/25\n",
      "315/315 [==============================] - 0s 962us/step - loss: 0.0750 - acc: 0.9905 - val_loss: 0.2034 - val_acc: 0.9444\n",
      "Epoch 25/25\n",
      "315/315 [==============================] - 0s 986us/step - loss: 0.0659 - acc: 0.9968 - val_loss: 0.2005 - val_acc: 0.9444\n",
      "[0.07334585008118567, 0.9943019944718081]\n"
     ]
    }
   ],
   "source": [
    "model.compile(loss=loss, optimizer=optimizer, metrics=['accuracy'])\n",
    "model.fit(X_train, y_train, batch_size=64, epochs=25, verbose=True, validation_split=0.1, shuffle=True)\n",
    "score = model.evaluate(X_train, y_train, verbose=0)\n",
    "print(score)"
   ]
  },
  {
   "cell_type": "code",
   "execution_count": 9,
   "metadata": {},
   "outputs": [],
   "source": [
    "model.save('tl_simple.h5')"
   ]
  },
  {
   "cell_type": "code",
   "execution_count": null,
   "metadata": {},
   "outputs": [],
   "source": []
  }
 ],
 "metadata": {
  "kernelspec": {
   "display_name": "Python 3",
   "language": "python",
   "name": "python3"
  },
  "language_info": {
   "codemirror_mode": {
    "name": "ipython",
    "version": 3
   },
   "file_extension": ".py",
   "mimetype": "text/x-python",
   "name": "python",
   "nbconvert_exporter": "python",
   "pygments_lexer": "ipython3",
   "version": "3.5.6"
  }
 },
 "nbformat": 4,
 "nbformat_minor": 2
}

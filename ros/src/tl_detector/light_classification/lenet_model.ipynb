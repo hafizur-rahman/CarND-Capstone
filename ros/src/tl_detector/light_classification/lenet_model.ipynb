{
 "cells": [
  {
   "cell_type": "code",
   "execution_count": 1,
   "metadata": {},
   "outputs": [
    {
     "name": "stderr",
     "output_type": "stream",
     "text": [
      "Using TensorFlow backend.\n"
     ]
    },
    {
     "data": {
      "text/plain": [
       "<matplotlib.image.AxesImage at 0x7fcb840357f0>"
      ]
     },
     "execution_count": 1,
     "metadata": {},
     "output_type": "execute_result"
    },
    {
     "data": {
      "image/png": "[encoded data removed]",
      "text/plain": [
       "<Figure size 432x288 with 1 Axes>"
      ]
     },
     "metadata": {
      "needs_background": "light"
     },
     "output_type": "display_data"
    }
   ],
   "source": [
    "import glob\n",
    "import re\n",
    "import cv2\n",
    "import numpy as np\n",
    "import matplotlib.pyplot as plt\n",
    "from sklearn.model_selection import train_test_split\n",
    "from keras.utils.np_utils import to_categorical\n",
    "\n",
    "%matplotlib inline\n",
    "\n",
    "light_regex = 'sim_(?P<color>[a-z]+)_[0-9]+.jpg'\n",
    "X_train = []\n",
    "y_train = []\n",
    "for light in glob.glob('train/*.jpg'):\n",
    "    im = cv2.imread(light)\n",
    "    im = cv2.cvtColor(im, cv2.COLOR_BGR2RGB)\n",
    "    im = cv2.resize(im, (64,32))\n",
    "    match = re.search(light_regex, light)\n",
    "    \n",
    "    X_train.append(im)\n",
    "    if match.group('color') == 'green':\n",
    "        y_train.append(0)\n",
    "    elif match.group('color') == 'yellow':\n",
    "        y_train.append(1)\n",
    "    elif match.group('color') == 'red':\n",
    "        y_train.append(2)\n",
    "    \n",
    "y_train = to_categorical(y_train)\n",
    "\n",
    "X_train = np.array(X_train)\n",
    "plt.imshow(X_train[0])"
   ]
  },
  {
   "cell_type": "code",
   "execution_count": 34,
   "metadata": {},
   "outputs": [],
   "source": [
    "input_shape = (32, 64, 3)\n",
    "num_classes = 3\n",
    "rate = 0.001\n",
    "EPOCHS = 50\n",
    "BATCH_SIZE = 64\n",
    "keep_prob = 0.2"
   ]
  },
  {
   "cell_type": "code",
   "execution_count": 35,
   "metadata": {},
   "outputs": [],
   "source": [
    "from keras.models import Sequential\n",
    "from keras.layers import Conv2D, MaxPooling2D, Dropout, Flatten, Dense\n",
    "from keras import losses, optimizers, regularizers\n",
    "\n",
    "model = Sequential([\n",
    "    Conv2D(8, 5, padding='same', input_shape=input_shape, activation='relu'),\n",
    "    MaxPooling2D(pool_size=(3, 3), strides=(2, 2)),\n",
    "    Conv2D(16, 5, padding='same', activation='relu'),\n",
    "    MaxPooling2D(pool_size=(3, 3), strides=(2, 2)),\n",
    "    Conv2D(32, 5, padding='same', activation='relu'),\n",
    "    MaxPooling2D(pool_size=(3, 3), strides=(2, 2)),\n",
    "    Flatten(),\n",
    "    Dense(240, activation='relu'),\n",
    "    Dropout(keep_prob),\n",
    "    Dense(168, activation='relu'),\n",
    "    Dropout(keep_prob),\n",
    "    Dense(num_classes, activation='softmax'),\n",
    "])\n",
    "\n",
    "loss = losses.categorical_crossentropy\n",
    "optimizer = optimizers.SGD(lr=rate)"
   ]
  },
  {
   "cell_type": "code",
   "execution_count": 37,
   "metadata": {},
   "outputs": [
    {
     "name": "stdout",
     "output_type": "stream",
     "text": [
      "Train on 315 samples, validate on 36 samples\n",
      "Epoch 1/50\n",
      "315/315 [==============================] - 2s 5ms/step - loss: 0.1978 - acc: 0.9270 - val_loss: 0.3336 - val_acc: 0.8611\n",
      "Epoch 2/50\n",
      "315/315 [==============================] - 0s 1ms/step - loss: 0.1874 - acc: 0.9079 - val_loss: 0.2995 - val_acc: 0.8611\n",
      "Epoch 3/50\n",
      "315/315 [==============================] - 0s 1ms/step - loss: 0.2457 - acc: 0.8984 - val_loss: 0.2668 - val_acc: 0.8889\n",
      "Epoch 4/50\n",
      "315/315 [==============================] - 0s 1ms/step - loss: 0.2315 - acc: 0.9206 - val_loss: 0.3071 - val_acc: 0.8333\n",
      "Epoch 5/50\n",
      "315/315 [==============================] - 0s 1ms/step - loss: 0.1716 - acc: 0.9238 - val_loss: 0.2495 - val_acc: 0.8611\n",
      "Epoch 6/50\n",
      "315/315 [==============================] - 0s 1ms/step - loss: 0.1856 - acc: 0.9270 - val_loss: 0.2872 - val_acc: 0.8611\n",
      "Epoch 7/50\n",
      "315/315 [==============================] - 0s 1ms/step - loss: 0.1802 - acc: 0.9365 - val_loss: 0.3286 - val_acc: 0.8333\n",
      "Epoch 8/50\n",
      "315/315 [==============================] - 0s 1ms/step - loss: 0.2010 - acc: 0.9302 - val_loss: 0.2802 - val_acc: 0.8611\n",
      "Epoch 9/50\n",
      "315/315 [==============================] - 0s 1ms/step - loss: 0.1522 - acc: 0.9333 - val_loss: 0.2276 - val_acc: 0.8611\n",
      "Epoch 10/50\n",
      "315/315 [==============================] - 0s 1ms/step - loss: 0.1336 - acc: 0.9429 - val_loss: 0.1654 - val_acc: 0.9167\n",
      "Epoch 11/50\n",
      "315/315 [==============================] - 0s 1ms/step - loss: 0.1237 - acc: 0.9492 - val_loss: 0.2301 - val_acc: 0.8611\n",
      "Epoch 12/50\n",
      "315/315 [==============================] - 0s 1ms/step - loss: 0.1426 - acc: 0.9524 - val_loss: 0.2015 - val_acc: 0.8889\n",
      "Epoch 13/50\n",
      "315/315 [==============================] - 0s 1ms/step - loss: 0.0985 - acc: 0.9619 - val_loss: 0.2146 - val_acc: 0.8889\n",
      "Epoch 14/50\n",
      "315/315 [==============================] - 0s 1ms/step - loss: 0.0953 - acc: 0.9683 - val_loss: 0.2297 - val_acc: 0.8611\n",
      "Epoch 15/50\n",
      "315/315 [==============================] - 0s 1ms/step - loss: 0.1865 - acc: 0.9333 - val_loss: 0.1676 - val_acc: 0.9167\n",
      "Epoch 16/50\n",
      "315/315 [==============================] - 0s 1ms/step - loss: 0.1422 - acc: 0.9460 - val_loss: 0.1988 - val_acc: 0.8889\n",
      "Epoch 17/50\n",
      "315/315 [==============================] - 0s 1ms/step - loss: 0.0838 - acc: 0.9587 - val_loss: 0.1966 - val_acc: 0.9167\n",
      "Epoch 18/50\n",
      "315/315 [==============================] - 0s 1ms/step - loss: 0.1080 - acc: 0.9556 - val_loss: 0.2552 - val_acc: 0.8611\n",
      "Epoch 19/50\n",
      "315/315 [==============================] - 0s 1ms/step - loss: 0.1110 - acc: 0.9714 - val_loss: 0.1985 - val_acc: 0.8889\n",
      "Epoch 20/50\n",
      "315/315 [==============================] - 0s 1ms/step - loss: 0.1238 - acc: 0.9460 - val_loss: 0.1996 - val_acc: 0.8889\n",
      "Epoch 21/50\n",
      "315/315 [==============================] - 0s 1ms/step - loss: 0.1178 - acc: 0.9587 - val_loss: 0.2211 - val_acc: 0.8889\n",
      "Epoch 22/50\n",
      "315/315 [==============================] - 0s 1ms/step - loss: 0.1322 - acc: 0.9397 - val_loss: 0.2130 - val_acc: 0.8889\n",
      "Epoch 23/50\n",
      "315/315 [==============================] - 0s 1ms/step - loss: 0.0960 - acc: 0.9683 - val_loss: 0.1710 - val_acc: 0.9167\n",
      "Epoch 24/50\n",
      "315/315 [==============================] - 0s 1ms/step - loss: 0.1245 - acc: 0.9619 - val_loss: 0.1714 - val_acc: 0.8889\n",
      "Epoch 25/50\n",
      "315/315 [==============================] - 0s 1ms/step - loss: 0.1010 - acc: 0.9683 - val_loss: 0.1651 - val_acc: 0.9167\n",
      "Epoch 26/50\n",
      "315/315 [==============================] - 0s 1ms/step - loss: 0.0791 - acc: 0.9556 - val_loss: 0.1704 - val_acc: 0.9167\n",
      "Epoch 27/50\n",
      "315/315 [==============================] - 0s 1ms/step - loss: 0.0715 - acc: 0.9746 - val_loss: 0.1689 - val_acc: 0.9167\n",
      "Epoch 28/50\n",
      "315/315 [==============================] - 0s 1ms/step - loss: 0.0814 - acc: 0.9778 - val_loss: 0.1920 - val_acc: 0.9167\n",
      "Epoch 29/50\n",
      "315/315 [==============================] - 0s 1ms/step - loss: 0.0811 - acc: 0.9746 - val_loss: 0.1959 - val_acc: 0.8889\n",
      "Epoch 30/50\n",
      "315/315 [==============================] - 0s 1ms/step - loss: 0.0713 - acc: 0.9778 - val_loss: 0.1708 - val_acc: 0.9167\n",
      "Epoch 31/50\n",
      "315/315 [==============================] - 0s 1ms/step - loss: 0.0975 - acc: 0.9714 - val_loss: 0.1610 - val_acc: 0.9167\n",
      "Epoch 32/50\n",
      "315/315 [==============================] - 0s 1ms/step - loss: 0.0631 - acc: 0.9746 - val_loss: 0.2139 - val_acc: 0.8889\n",
      "Epoch 33/50\n",
      "315/315 [==============================] - 0s 1ms/step - loss: 0.0566 - acc: 0.9778 - val_loss: 0.1526 - val_acc: 0.8889\n",
      "Epoch 34/50\n",
      "315/315 [==============================] - 0s 1ms/step - loss: 0.0496 - acc: 0.9810 - val_loss: 0.1933 - val_acc: 0.9167\n",
      "Epoch 35/50\n",
      "315/315 [==============================] - 0s 1ms/step - loss: 0.1032 - acc: 0.9619 - val_loss: 0.1565 - val_acc: 0.9167\n",
      "Epoch 36/50\n",
      "315/315 [==============================] - 0s 1ms/step - loss: 0.1164 - acc: 0.9619 - val_loss: 0.1354 - val_acc: 0.9167\n",
      "Epoch 37/50\n",
      "315/315 [==============================] - 0s 1ms/step - loss: 0.0705 - acc: 0.9778 - val_loss: 0.1355 - val_acc: 0.9444\n",
      "Epoch 38/50\n",
      "315/315 [==============================] - 0s 1ms/step - loss: 0.0688 - acc: 0.9778 - val_loss: 0.1611 - val_acc: 0.9167\n",
      "Epoch 39/50\n",
      "315/315 [==============================] - 0s 1ms/step - loss: 0.0648 - acc: 0.9714 - val_loss: 0.1163 - val_acc: 0.9444\n",
      "Epoch 40/50\n",
      "315/315 [==============================] - 0s 1ms/step - loss: 0.0895 - acc: 0.9778 - val_loss: 0.1414 - val_acc: 0.9167\n",
      "Epoch 41/50\n",
      "315/315 [==============================] - 0s 1ms/step - loss: 0.0648 - acc: 0.9746 - val_loss: 0.1329 - val_acc: 0.9167\n",
      "Epoch 42/50\n",
      "315/315 [==============================] - 0s 1ms/step - loss: 0.0656 - acc: 0.9778 - val_loss: 0.1381 - val_acc: 0.9167\n",
      "Epoch 43/50\n",
      "315/315 [==============================] - 0s 1ms/step - loss: 0.0799 - acc: 0.9714 - val_loss: 0.1650 - val_acc: 0.9167\n",
      "Epoch 44/50\n",
      "315/315 [==============================] - 0s 1ms/step - loss: 0.0565 - acc: 0.9873 - val_loss: 0.1328 - val_acc: 0.9444\n",
      "Epoch 45/50\n",
      "315/315 [==============================] - 0s 1ms/step - loss: 0.0601 - acc: 0.9810 - val_loss: 0.1484 - val_acc: 0.9444\n",
      "Epoch 46/50\n",
      "315/315 [==============================] - 0s 1ms/step - loss: 0.0498 - acc: 0.9873 - val_loss: 0.1799 - val_acc: 0.9167\n",
      "Epoch 47/50\n",
      "315/315 [==============================] - 0s 1ms/step - loss: 0.0220 - acc: 0.9937 - val_loss: 0.1319 - val_acc: 0.9444\n",
      "Epoch 48/50\n",
      "315/315 [==============================] - 0s 1ms/step - loss: 0.0579 - acc: 0.9683 - val_loss: 0.1314 - val_acc: 0.9444\n",
      "Epoch 49/50\n",
      "315/315 [==============================] - 0s 1ms/step - loss: 0.0528 - acc: 0.9841 - val_loss: 0.1344 - val_acc: 0.9167\n",
      "Epoch 50/50\n",
      "315/315 [==============================] - 0s 1ms/step - loss: 0.0472 - acc: 0.9810 - val_loss: 0.1469 - val_acc: 0.8889\n",
      "[0.023440524203400325, 0.9886039889436162]\n"
     ]
    }
   ],
   "source": [
    "model.compile(loss=loss, optimizer=optimizer, metrics=['accuracy'])\n",
    "model.fit(X_train, y_train, batch_size=BATCH_SIZE, epochs=EPOCHS, verbose=True, validation_split=0.1, shuffle=True)\n",
    "score = model.evaluate(X_train, y_train, verbose=0)\n",
    "print(score)"
   ]
  },
  {
   "cell_type": "code",
   "execution_count": 38,
   "metadata": {},
   "outputs": [],
   "source": [
    "model.save('tl_lenet.h5')"
   ]
  },
  {
   "cell_type": "code",
   "execution_count": null,
   "metadata": {},
   "outputs": [],
   "source": []
  }
 ],
 "metadata": {
  "kernelspec": {
   "display_name": "Python 3",
   "language": "python",
   "name": "python3"
  },
  "language_info": {
   "codemirror_mode": {
    "name": "ipython",
    "version": 3
   },
   "file_extension": ".py",
   "mimetype": "text/x-python",
   "name": "python",
   "nbconvert_exporter": "python",
   "pygments_lexer": "ipython3",
   "version": "3.5.6"
  }
 },
 "nbformat": 4,
 "nbformat_minor": 2
}
